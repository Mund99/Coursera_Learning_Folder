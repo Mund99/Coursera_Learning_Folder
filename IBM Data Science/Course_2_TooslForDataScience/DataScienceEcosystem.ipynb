{
 "cells": [
  {
   "cell_type": "markdown",
   "id": "1fba6ed1-fdd9-4c91-bc0a-3dbad0b7d914",
   "metadata": {},
   "source": [
    "# Data Science Tools and Ecosystem"
   ]
  },
  {
   "cell_type": "markdown",
   "id": "1e13f0c6-170e-4681-b634-90a0ef7f10d7",
   "metadata": {},
   "source": [
    "## Author\n",
    "Edmund"
   ]
  },
  {
   "cell_type": "markdown",
   "id": "d44cfebd-3b29-4126-9ed1-c37751446b34",
   "metadata": {},
   "source": [
    "In this notebook, Data Science Tools and Ecosystem are summarized."
   ]
  },
  {
   "cell_type": "markdown",
   "id": "4e7c3f0e-e65e-4930-bbab-59627eb7ab1d",
   "metadata": {},
   "source": [
    "**Objectives:**\n",
    "\n",
    "- List popular languages for Data Science.\n",
    "- List commonly used libararies.\n",
    "- Perform arithmetic expression.\n",
    "- Perform conversion of minutes to hours\n",
    "- Perform markdown in jupyter."
   ]
  },
  {
   "cell_type": "markdown",
   "id": "8ec78a0f-2d66-4087-a123-c2241071e4f0",
   "metadata": {},
   "source": [
    "Some of the popular languages that Data Scientists use are: \n",
    "1. Python\n",
    "2. R\n",
    "3. SQL"
   ]
  },
  {
   "cell_type": "markdown",
   "id": "5822138f-0a48-412c-9ed7-dac39cae1204",
   "metadata": {},
   "source": [
    "Some of the commonly used libraries used by Data Scientists include: \n",
    "1. Pandas\n",
    "2. Numpy\n",
    "3. Scipy"
   ]
  },
  {
   "cell_type": "markdown",
   "id": "6ce5254a-a28a-4d91-b8fc-0bf137eb2659",
   "metadata": {},
   "source": [
    "| Data Science Tools |\r\n",
    "| ------------------- |\r\n",
    "| Jupyter            |\r\n",
    "| RStudio            |\r\n",
    "| Visual Studio Code |\r\n",
    "  |\r\n"
   ]
  },
  {
   "cell_type": "markdown",
   "id": "bec9c0ed-640e-45cd-adef-09e7c80194a5",
   "metadata": {},
   "source": [
    "### Below are a few examples of evaluating arithmetic expressions in Python."
   ]
  },
  {
   "cell_type": "code",
   "execution_count": 6,
   "id": "b4c931cc-a59f-4857-afc1-bde37485d29b",
   "metadata": {},
   "outputs": [
    {
     "data": {
      "text/plain": [
       "17"
      ]
     },
     "execution_count": 6,
     "metadata": {},
     "output_type": "execute_result"
    }
   ],
   "source": [
    "# This is a simple arithmetic expression to multiply then add integers. \n",
    "(3*4)+5"
   ]
  },
  {
   "cell_type": "code",
   "execution_count": 7,
   "id": "860a0a77-8817-4f2f-bac8-54fbbbf8adcb",
   "metadata": {},
   "outputs": [
    {
     "data": {
      "text/plain": [
       "3.3333333333333335"
      ]
     },
     "execution_count": 7,
     "metadata": {},
     "output_type": "execute_result"
    }
   ],
   "source": [
    "# This will convert 200 minutes to hours by dividing by 60.\n",
    "minutes = 200\n",
    "hours = minutes / 60\n",
    "hours"
   ]
  },
  {
   "cell_type": "code",
   "execution_count": null,
   "id": "3fdf35d9-9f29-462a-9392-afd7463de650",
   "metadata": {},
   "outputs": [],
   "source": []
  }
 ],
 "metadata": {
  "kernelspec": {
   "display_name": "Python 3 (ipykernel)",
   "language": "python",
   "name": "python3"
  },
  "language_info": {
   "codemirror_mode": {
    "name": "ipython",
    "version": 3
   },
   "file_extension": ".py",
   "mimetype": "text/x-python",
   "name": "python",
   "nbconvert_exporter": "python",
   "pygments_lexer": "ipython3",
   "version": "3.11.3"
  }
 },
 "nbformat": 4,
 "nbformat_minor": 5
}
